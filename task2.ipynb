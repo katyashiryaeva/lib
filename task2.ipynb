{
 "cells": [
  {
   "cell_type": "markdown",
   "metadata": {},
   "source": [
    "# Машинное обучение и анализ данных"
   ]
  },
  {
   "cell_type": "markdown",
   "metadata": {},
   "source": [
    "## Математика и Python"
   ]
  },
  {
   "cell_type": "markdown",
   "metadata": {},
   "source": [
    "Задание 1"
   ]
  },
  {
   "cell_type": "code",
   "execution_count": 7,
   "metadata": {},
   "outputs": [],
   "source": [
    "import numpy \n",
    "    \n",
    "f = numpy.arange(1, 2, 0.3, dtype=float)\n",
    "b = numpy.array([1, 2, 3, 4, 5], dtype=float)\n",
    "# a = numpy.array(1, 2, 3, 4, 5, dtype=float)\n",
    "c = numpy.array([False, False, True])"
   ]
  },
  {
   "cell_type": "code",
   "execution_count": 11,
   "metadata": {},
   "outputs": [
    {
     "data": {
      "text/plain": [
       "array([False, False,  True])"
      ]
     },
     "execution_count": 11,
     "metadata": {},
     "output_type": "execute_result"
    }
   ],
   "source": [
    "c"
   ]
  },
  {
   "cell_type": "code",
   "execution_count": 20,
   "metadata": {},
   "outputs": [],
   "source": [
    "import numpy as np"
   ]
  },
  {
   "cell_type": "code",
   "execution_count": 13,
   "metadata": {},
   "outputs": [],
   "source": [
    "a = numpy.array([0, -1, 11])\n",
    "b = numpy.array([3, 7, 2])"
   ]
  },
  {
   "cell_type": "markdown",
   "metadata": {},
   "source": [
    "Дан набор предложений, скопированных из Википедии. Каждое из них имеет \"кошачью тему\" в одном из трех смыслов:\n",
    "\n",
    "кошки (животные)\n",
    "UNIX-утилита cat для вывода содержимого файлов\n",
    "версии операционной системы OS X, названные в честь семейства кошачьих\n",
    "Ваша задача — найти два предложения, которые ближе всего по смыслу к расположенному в самой первой строке. \n",
    "В качестве меры близости по смыслу мы будем использовать косинусное расстояние.\n",
    "\n",
    "sentences.txt\n",
    "Выполните следующие шаги:\n",
    "\n",
    "Скачайте файл с предложениями (sentences.txt).\n",
    "Каждая строка в файле соответствует одному предложению. \n",
    "Считайте их, приведите каждую к нижнему регистру с помощью строковой функции lower().\n",
    "Произведите токенизацию, то есть разбиение текстов на слова. \n",
    "Для этого можно воспользоваться регулярным выражением, которое считает разделителем любой символ, не являющийся буквой: \n",
    "    re.split('[^a-z]', t). Не забудьте удалить пустые слова после разделения.\n",
    "Составьте список всех слов, встречающихся в предложениях. \n",
    "Сопоставьте каждому слову индекс от нуля до (d - 1), где d — число различных слов в предложениях. \n",
    "Для этого удобно воспользоваться структурой dict.\n",
    "Создайте матрицу размера n * d, где n — число предложений. \n",
    "Заполните ее: элемент с индексом (i, j) в этой матрице должен быть равен количеству вхождений j-го слова в i-е предложение. \n",
    "    У вас должна получиться матрица размера 22 * 254.\n",
    "Найдите косинусное расстояние от предложения в самой первой строке (In comparison to dogs, cats have not undergone...) \n",
    "до всех остальных с помощью функции scipy.spatial.distance.cosine. \n",
    "Какие номера у двух предложений, ближайших к нему по этому расстоянию (строки нумеруются с нуля)? \n",
    "Эти два числа и будут ответами на задание. Само предложение (In comparison to dogs, cats have not undergone... ) имеет индекс 0.\n",
    "Запишите полученные числа в ответ, разделив пробелом.\n",
    "Совпадают ли ближайшие два предложения по тематике с первым? \n",
    "Совпадают ли тематики у следующих по близости предложений?\n",
    "Разумеется, использованный вами метод крайне простой. \n",
    "Например, он не учитывает формы слов (так, cat и cats он считает разными словами, хотя по сути они означают одно и то же), \n",
    "не удаляет из текстов артикли и прочие ненужные слова. \n",
    "Позже мы будем подробно изучать анализ текстов, где выясним, как достичь высокого качества в задаче поиска похожих предложений."
   ]
  },
  {
   "cell_type": "code",
   "execution_count": 148,
   "metadata": {},
   "outputs": [],
   "source": [
    "import pandas as pd\n",
    "import numpy as np\n",
    "import scipy\n",
    "import re"
   ]
  },
  {
   "cell_type": "code",
   "execution_count": 150,
   "metadata": {},
   "outputs": [
    {
     "name": "stdout",
     "output_type": "stream",
     "text": [
      "As cat simply catenates streams of bytes, it can be also used to concatenate binary files, where it will just concatenate sequence of bytes.\n",
      "\n",
      "['in', 'comparison', 'to', 'dogs', 'cats', 'have', 'not', 'undergone', 'major', 'changes', 'during', 'the', 'domestication', 'process']\n"
     ]
    }
   ],
   "source": [
    "fname = \"/Users/katya/venv/!Projects/stepik/cats.txt\" \n",
    "\n",
    "with open(fname) as f:\n",
    "    content = f.readlines()\n",
    "    print(content[1])\n",
    "    \n",
    "content = [re.split(\"\\W+\",x.lower().replace(\"\\n\", \"\").replace(\"\\t\", \"\")) for x in content]\n",
    "\n",
    "content = [[x for x in words if x] for words in content]\n",
    "\n",
    "dic={}\n",
    "for word in [item for items in content for item in items]:\n",
    "    if word in dic:\n",
    "        dic[word]=dic[word]+1\n",
    "    else:\n",
    "        dic[word]=1\n",
    "        \n",
    "print(content[0])\n",
    "word_occur = [[int(kl in content_0) for kl in dic.keys() ] for content_0 in content]\n",
    "# print(word_occur)\n",
    "# print(sum(word_occur))\n",
    "# print(len(word_occur))\n",
    "# print(len(dic.keys()))     \n"
   ]
  },
  {
   "cell_type": "code",
   "execution_count": 157,
   "metadata": {},
   "outputs": [],
   "source": [
    "dist = [scipy.spatial.distance.cosine(word_occur[0], word_occur[i]) for i in range(len(word_occur))]"
   ]
  },
  {
   "cell_type": "code",
   "execution_count": 163,
   "metadata": {},
   "outputs": [
    {
     "data": {
      "text/plain": [
       "[0.0,\n",
       " 0.9402385695332803,\n",
       " 0.8619868881315291,\n",
       " 0.8885443574849294,\n",
       " 0.8055388829343506,\n",
       " 0.9402385695332803,\n",
       " 0.7817821097640076,\n",
       " 0.9154845745271484,\n",
       " 0.9069515789601529,\n",
       " 0.8833576312960392,\n",
       " 0.8703592552895671,\n",
       " 0.8703592552895671,\n",
       " 0.8773721321030068,\n",
       " 0.8833576312960392,\n",
       " 0.8663693790437879,\n",
       " 0.9416788156480196,\n",
       " 0.8559953917788041,\n",
       " 0.9519984639262681,\n",
       " 0.9442721787424647,\n",
       " 0.9402385695332803,\n",
       " 0.8427572744917122,\n",
       " 0.8290591353105431]"
      ]
     },
     "execution_count": 163,
     "metadata": {},
     "output_type": "execute_result"
    }
   ],
   "source": [
    "dist"
   ]
  },
  {
   "cell_type": "code",
   "execution_count": 182,
   "metadata": {},
   "outputs": [
    {
     "name": "stdout",
     "output_type": "stream",
     "text": [
      "[ 4.36264154 -1.29552587  0.19333685 -0.00823565]\n"
     ]
    },
    {
     "data": {
      "image/png": "[encoded data removed]",
      "text/plain": [
       "<Figure size 720x360 with 1 Axes>"
      ]
     },
     "metadata": {},
     "output_type": "display_data"
    }
   ],
   "source": [
    "import numpy as np\n",
    "\n",
    "def get_f(x ):\n",
    "    return np.sin( x / float(5)) * np.exp(x/float(10)) + 5 * np.exp(-1*x/float(2))\n",
    "\n",
    "ig, ax = plt.subplots(figsize=(10,5))\n",
    "\n",
    "x = numpy.linspace(1,15,200)\n",
    "ax.plot(x, get_f( x))\n",
    "\n",
    "M_v1 = numpy.array([[1., 1.], [1., 15.]])  \n",
    "v_v1 = numpy.array([get_f(1),get_f(15)])  \n",
    "\n",
    "w = numpy.linalg.solve(M_v1, v_v1)\n",
    "\n",
    "def get_f1(w, x):\n",
    "    return w[0] + w[1]*x \n",
    "\n",
    "ax.plot(x, get_f1(w, x))\n",
    "#############################################\n",
    "\n",
    "M_v2 = numpy.array([[1., 1., 1.], [1., 8., 8.*8.], [1.,15.,15.*15.]])  \n",
    "v_v2 = numpy.array([get_f(1),get_f(8),get_f(15)])  \n",
    "\n",
    "w_2 = numpy.linalg.solve(M_v2, v_v2)\n",
    "\n",
    "def get_f2(w, x):\n",
    "    return w[0] + w[1]*x + w[2]*x**2\n",
    "\n",
    "\n",
    "ax.plot(x, get_f2(w_2, x))\n",
    "\n",
    "#############################################\n",
    "\n",
    "M_v3 = numpy.array([[1., 1., 1., 1.], [1., 4., 4.**2, 4.**3], [1.,10.,10.**2, 10.**3], [1.,15.,15.**2, 15.**3]])  \n",
    "v_v3 = numpy.array([get_f(1),get_f(4),get_f(10), get_f(15)])  \n",
    "\n",
    "w_3 = numpy.linalg.solve(M_v3, v_v3)\n",
    "\n",
    "def get_f3(w, x):\n",
    "    return w[0] + w[1]*x + w[2]*x**2 + w[3]*x**3 \n",
    "\n",
    "\n",
    "ax.plot(x, get_f3(w_3, x))\n",
    "\n",
    "print(w_3)\n",
    "\n",
    "plt.show()\n"
   ]
  },
  {
   "cell_type": "code",
   "execution_count": null,
   "metadata": {},
   "outputs": [],
   "source": []
  }
 ],
 "metadata": {
  "kernelspec": {
   "display_name": "Python 3",
   "language": "python",
   "name": "python3"
  },
  "language_info": {
   "codemirror_mode": {
    "name": "ipython",
    "version": 3
   },
   "file_extension": ".py",
   "mimetype": "text/x-python",
   "name": "python",
   "nbconvert_exporter": "python",
   "pygments_lexer": "ipython3",
   "version": "3.6.4"
  }
 },
 "nbformat": 4,
 "nbformat_minor": 2
}
